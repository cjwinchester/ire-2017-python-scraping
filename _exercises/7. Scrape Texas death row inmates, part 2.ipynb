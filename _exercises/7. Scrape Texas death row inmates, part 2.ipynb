{
 "cells": [
  {
   "cell_type": "markdown",
   "metadata": {},
   "source": [
    "# Scrape Texas death row inmates, part 2\n",
    "\n",
    "The table we scraped in the last notebook _probably_ could have been imported directly into Excel without too much trouble. But what if you also wanted to append a few columns of information from each inmate's detail page, as well?\n",
    "\n",
    "In this section, we're going to supplement the scraper we just wrote with a _function_ that extracts data from inmates' detail pages. We're also going to use Python's built-in `time.sleep` function to pause for a few seconds between each row to give the government's servers a break.\n",
    "\n",
    "First, let's import the libraries we'll need."
   ]
  },
  {
   "cell_type": "code",
   "execution_count": 22,
   "metadata": {
    "collapsed": true
   },
   "outputs": [],
   "source": [
    "import requests\n",
    "from bs4 import BeautifulSoup\n",
    "import csv\n",
    "import time\n",
    "from collections import defaultdict"
   ]
  },
  {
   "cell_type": "markdown",
   "metadata": {},
   "source": [
    "## Let's write a function\n",
    "\n",
    "We need a function that will take a URL of a detail page and do these things:\n",
    "\n",
    "- Open the detail page URL using `requests`\n",
    "- Parse the contents using `BeautifulSoup`\n",
    "- Isolate the bits of information we're interested in: height, weight, eye color, hair color, native county, native state, link to mugshot\n",
    "- Return those bits of information to the script that called the function -- let's use a special kind of dictionary called a `defaultdict`\n",
    "\n",
    "We shall call our function `inmateDetails()`."
   ]
  },
  {
   "cell_type": "code",
   "execution_count": 24,
   "metadata": {},
   "outputs": [
    {
     "name": "stdout",
     "output_type": "stream",
     "text": [
      "http://www.tdcj.state.tx.us/death_row/dr_info/wellsamos2.jpg\n"
     ]
    }
   ],
   "source": [
    "def inmateDetails(url):\n",
    "    \n",
    "    # get the page\n",
    "    r = requests.get(url)\n",
    "    \n",
    "    # soup the HTML\n",
    "    soup = BeautifulSoup(r.text, 'html.parser')\n",
    "\n",
    "    # find the table of info\n",
    "    table = soup.find('table', {'class': 'tabledata_deathrow_table'})\n",
    "\n",
    "    # get the mugshot URL\n",
    "    mug = table.find('img', {'class': 'photo_border_black_right'})['src']\n",
    "\n",
    "    # get a list of the \"label\" cells\n",
    "    label_cells = table.find_all('td', {'class': 'tabledata_bold_align_right_deathrow'})\n",
    "\n",
    "    # create a special type of dictionary\n",
    "    # it'll save us some keystrokes later on\n",
    "    # https://docs.python.org/3/library/collections.html#collections.defaultdict\n",
    "    out_dict = defaultdict()\n",
    "\n",
    "    # if there's a mug, add it to the dictionary\n",
    "    if mug:\n",
    "        out_dict['mug'] = 'http://www.tdcj.state.tx.us/death_row/dr_info/' + mug\n",
    "\n",
    "    # a list of the things we're interested in -- should match exactly the text of the cells\n",
    "    attr_list = ['Height', 'Weight', 'Eye Color', 'Hair Color', 'Native County', 'Native State']\n",
    "\n",
    "    # loop over the list of label cells\n",
    "    for cell in label_cells:\n",
    "        \n",
    "        # check to see if the cell text is in our list of attributes\n",
    "        if cell.text in attr_list:\n",
    "            \n",
    "            # if so, find the value -- go up to the tr and search for the other td --\n",
    "            # and add that attribute to our dictionary\n",
    "            out_dict[cell.text] = cell.parent.find('td', {'class': 'tabledata_align_left_deathrow'}).text\n",
    "\n",
    "    # return the dictionary to the script\n",
    "    return(out_dict)"
   ]
  },
  {
   "cell_type": "code",
   "execution_count": null,
   "metadata": {
    "collapsed": true
   },
   "outputs": [],
   "source": []
  }
 ],
 "metadata": {
  "kernelspec": {
   "display_name": "Python 3",
   "language": "python",
   "name": "python3"
  },
  "language_info": {
   "codemirror_mode": {
    "name": "ipython",
    "version": 3
   },
   "file_extension": ".py",
   "mimetype": "text/x-python",
   "name": "python",
   "nbconvert_exporter": "python",
   "pygments_lexer": "ipython3",
   "version": "3.6.1"
  }
 },
 "nbformat": 4,
 "nbformat_minor": 2
}
