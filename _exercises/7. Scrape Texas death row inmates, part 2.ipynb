{
 "cells": [
  {
   "cell_type": "markdown",
   "metadata": {},
   "source": [
    "# Scrape Texas death row inmates, part 2\n",
    "\n",
    "The table we scraped in the last notebook _probably_ could have been imported directly into Excel without too much trouble. But what if you also wanted to append a few columns of information from each inmate's detail page, as well?\n",
    "\n",
    "In this section, we're going to supplement the scraper we just wrote with a _function_ that extracts data from inmates' detail pages. We're also going to use Python's built-in `time.sleep` function to pause for a few seconds between each row to give the government's servers a break.\n",
    "\n",
    "First, let's import the libraries we'll need."
   ]
  },
  {
   "cell_type": "code",
   "execution_count": null,
   "metadata": {
    "collapsed": true
   },
   "outputs": [],
   "source": [
    "import requests\n",
    "from bs4 import BeautifulSoup\n",
    "import csv\n",
    "import time"
   ]
  },
  {
   "cell_type": "markdown",
   "metadata": {},
   "source": [
    "## Let's write a function\n",
    "\n",
    "We need a function that will take a URL of a detail page and do these things:\n",
    "\n",
    "- Open the detail page URL using `requests`\n",
    "- Parse the contents using `BeautifulSoup`\n",
    "- Isolate the bits of information we're interested in: height, weight, eye color, hair color, native county, native state, link to mugshot\n",
    "- Return those bits of information to the script that called the function -- let's use a dictionary\n",
    "\n",
    "We shall call our function `inmateDetails()`."
   ]
  },
  {
   "cell_type": "code",
   "execution_count": null,
   "metadata": {
    "collapsed": true
   },
   "outputs": [],
   "source": [
    "def inmateDetails(url):\n",
    "\n",
    "    # create a dictionary with some default values\n",
    "    # as we go through, we're going to add stuff to it, then *return* it\n",
    "    # (if you want to explore further, there is actually\n",
    "    # a special kind of dictionary called a \"defaultdict\" to\n",
    "    # handle this use case) =>\n",
    "    # https://docs.python.org/3/library/collections.html#collections.defaultdict\n",
    "    out_dict = {\n",
    "        'Height': None,\n",
    "        'Weight': None,\n",
    "        'Eye Color': None,\n",
    "        'Hair Color': None,\n",
    "        'Native County': None,\n",
    "        'Native State': None,\n",
    "        'mug': None\n",
    "    }\n",
    "    \n",
    "    # partway down the page, the links go to JPGs instead of HTML pages\n",
    "    # we can't parse images, so we'll just return the empty dictionary\n",
    "    if not url.endswith('.html'):\n",
    "        return out_dict\n",
    "    \n",
    "    # get the page\n",
    "    r = requests.get(url)\n",
    "    \n",
    "    # soup the HTML\n",
    "    soup = BeautifulSoup(r.text, 'html.parser')\n",
    "\n",
    "    # find the table of info\n",
    "    table = soup.find('table', {'class': 'tabledata_deathrow_table'})\n",
    "    \n",
    "    # target the mugshot, if it exists\n",
    "    mug = table.find('img', {'class': 'photo_border_black_right'})\n",
    "    \n",
    "    # if there is a mug, grab the src and add it to the dictionary\n",
    "    if mug:\n",
    "        out_dict['mug'] = 'http://www.tdcj.state.tx.us/death_row/dr_info/' + mug['src']\n",
    "\n",
    "    # get a list of the \"label\" cells\n",
    "    # on some pages, they're identified by the class 'tabledata_bold_align_right_deathrow'\n",
    "    # on others, they're identified by the class 'tabledata_bold_align_right_unit'\n",
    "    # so we pass it a list of possible classes\n",
    "    label_cells = table.find_all('td', {'class': ['tabledata_bold_align_right_deathrow',\n",
    "                                                  'tabledata_bold_align_right_unit']})\n",
    "    \n",
    "    # a list of the things we're interested in -- should match exactly the text of the cells\n",
    "    attr_list = ['Height', 'Weight', 'Eye Color', 'Hair Color', 'Native County', 'Native State']\n",
    "\n",
    "    # loop over the list of label cells we targeted earlier\n",
    "    for cell in label_cells:\n",
    "        \n",
    "        clean_label_cell_text = cell.text.strip()\n",
    "        \n",
    "        # check to see if the cell text is in our list of attributes\n",
    "        if clean_label_cell_text in attr_list:\n",
    "            \n",
    "            # if so, find the value -- go up to the tr and search for the other td --\n",
    "            # and add that attribute to our dictionary\n",
    "            value_cell_text = cell.parent.find('td', {'class': 'tabledata_align_left_deathrow'}).text.strip()\n",
    "            out_dict[clean_label_cell_text] = value_cell_text\n",
    "\n",
    "    # return the dictionary to the script\n",
    "    return(out_dict)"
   ]
  },
  {
   "cell_type": "markdown",
   "metadata": {
    "collapsed": true
   },
   "source": [
    "OK, now we have our function. Let's drop it in the scraper we wrote for the last session.\n",
    "\n",
    "First, let's get back to the part where where we have the rows of the table stored as a variable:"
   ]
  },
  {
   "cell_type": "code",
   "execution_count": null,
   "metadata": {
    "collapsed": true
   },
   "outputs": [],
   "source": [
    "url = 'http://www.tdcj.state.tx.us/death_row/dr_offenders_on_dr.html'\n",
    "\n",
    "r = requests.get(url)\n",
    "\n",
    "soup = BeautifulSoup(r.text, 'html.parser')\n",
    "\n",
    "dr_table = soup.find('table', {'class': 'os'})\n",
    "\n",
    "dr_rows = dr_table.find_all('tr')[1:]"
   ]
  },
  {
   "cell_type": "markdown",
   "metadata": {},
   "source": [
    "Now we're going to loop over the rows of the table again as we write to a file -- let's call it 'tx-death-row-with-details.csv' -- but this time, we're _also_ going to call the function we just wrote, `inmateDetails`, to grab some details from the detail page.\n",
    "\n",
    "The details will be returned as a dictionary, and we'll add these values to the list that we write out to file instead of just dropping in the link to the detail page.\n",
    "\n",
    "_Furthermore_, because we're adding an HTTP request to every loop iteration, we're going to use `time.sleep` to pause for a few seconds at the end of each loop."
   ]
  },
  {
   "cell_type": "code",
   "execution_count": null,
   "metadata": {},
   "outputs": [],
   "source": [
    "with open('tx-death-row-with-details.csv', 'w') as outfile:\n",
    "    writer = csv.writer(outfile)\n",
    "    headers = ['id', 'last', 'first', 'dob', 'sex', 'race',\n",
    "               'admission_date', 'county', 'offense_date',\n",
    "               'height', 'weight', 'eye_color', 'hair_color',\n",
    "               'native_county', 'native_state']\n",
    "    \n",
    "    writer.writerow(headers)\n",
    "    \n",
    "    for row in dr_rows:\n",
    "        cols = row.find_all('td')\n",
    "\n",
    "        id_number = cols[0].text\n",
    "        last_name = cols[2].text        \n",
    "        first_name = cols[3].text\n",
    "\n",
    "        print('Scraping data for', first_name, last_name)\n",
    "        \n",
    "        dob = cols[4].text\n",
    "        sex = cols[5].text\n",
    "        race = cols[6].text\n",
    "        date_received = cols[7].text\n",
    "        county = cols[8].text\n",
    "        date_offense = cols[9].text\n",
    "\n",
    "        detail_link = 'http://www.tdcj.state.tx.us/death_row/' + cols[1].a['href']\n",
    "        details = inmateDetails(detail_link)\n",
    "        \n",
    "        height = details['Height']\n",
    "        weight = details['Weight']\n",
    "        eye_color = details['Eye Color']\n",
    "        hair_color = details['Hair Color']\n",
    "        native_county = details['Native County']\n",
    "        native_state = details['Native State']\n",
    "        \n",
    "        writer.writerow([id_number, detail_link, last_name, first_name, dob, sex,\n",
    "                         race, date_received, county, date_offense, height, weight,\n",
    "                         eye_color, hair_color, native_county, native_state])\n",
    "\n",
    "        time.sleep(2)\n",
    "\n",
    "    print('')\n",
    "    print('Done!')"
   ]
  }
 ],
 "metadata": {
  "kernelspec": {
   "display_name": "Python 3",
   "language": "python",
   "name": "python3"
  },
  "language_info": {
   "codemirror_mode": {
    "name": "ipython",
    "version": 3
   },
   "file_extension": ".py",
   "mimetype": "text/x-python",
   "name": "python",
   "nbconvert_exporter": "python",
   "pygments_lexer": "ipython3",
   "version": "3.6.1"
  }
 },
 "nbformat": 4,
 "nbformat_minor": 2
}
