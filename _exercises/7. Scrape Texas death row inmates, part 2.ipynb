{
 "cells": [
  {
   "cell_type": "markdown",
   "metadata": {},
   "source": [
    "# Scrape Texas death row inmates, part 2\n",
    "\n",
    "The table we scraped in the last notebook _probably_ could have been imported directly into Excel without too much trouble. But what if you also wanted to append a few columns of information from each inmate's detail page, as well?\n",
    "\n",
    "In this section, we're going to supplement the scraper we just wrote with a _function_ that extracts data from inmates' detail pages. We're also going to use Python's built-in `time.sleep` function to pause for a few seconds between each row to give the government's servers a break.\n",
    "\n",
    "First, let's import the libraries we'll need."
   ]
  },
  {
   "cell_type": "code",
   "execution_count": null,
   "metadata": {
    "collapsed": true
   },
   "outputs": [],
   "source": []
  },
  {
   "cell_type": "markdown",
   "metadata": {},
   "source": [
    "## Let's write a function\n",
    "\n",
    "We need a function that will take a URL of a detail page and do these things:\n",
    "\n",
    "- Open the detail page URL using `requests`\n",
    "- Parse the contents using `BeautifulSoup`\n",
    "- Isolate the bits of information we're interested in: height, weight, eye color, hair color, native county, native state, link to mugshot\n",
    "- Return those bits of information to the script that called the function -- let's use a dictionary\n",
    "\n",
    "We shall call our function `inmateDetails()`."
   ]
  },
  {
   "cell_type": "code",
   "execution_count": null,
   "metadata": {
    "collapsed": true
   },
   "outputs": [],
   "source": []
  },
  {
   "cell_type": "markdown",
   "metadata": {
    "collapsed": true
   },
   "source": [
    "OK, now we have our function. Let's drop it in the scraper we wrote for the last session.\n",
    "\n",
    "First, let's get back to the part where where we have the rows of the table stored as a variable:"
   ]
  },
  {
   "cell_type": "code",
   "execution_count": null,
   "metadata": {
    "collapsed": true
   },
   "outputs": [],
   "source": []
  },
  {
   "cell_type": "markdown",
   "metadata": {},
   "source": [
    "Now we're going to loop over the rows of the table again as we write to a file -- let's call it 'tx-death-row-with-details.csv' -- but this time, we're _also_ going to call the function we just wrote, `inmateDetails`, to grab some details from the detail page.\n",
    "\n",
    "The details will be returned as a dictionary, and we'll add these values to the list that we write out to file instead of just dropping in the link to the detail page.\n",
    "\n",
    "_Furthermore_, because we're adding an HTTP request to every loop iteration, we're going to use `time.sleep` to pause for a few seconds at the end of each loop."
   ]
  },
  {
   "cell_type": "code",
   "execution_count": null,
   "metadata": {
    "collapsed": true
   },
   "outputs": [],
   "source": []
  }
 ],
 "metadata": {
  "kernelspec": {
   "display_name": "Python 3",
   "language": "python",
   "name": "python3"
  },
  "language_info": {
   "codemirror_mode": {
    "name": "ipython",
    "version": 3
   },
   "file_extension": ".py",
   "mimetype": "text/x-python",
   "name": "python",
   "nbconvert_exporter": "python",
   "pygments_lexer": "ipython3",
   "version": "3.6.1"
  }
 },
 "nbformat": 4,
 "nbformat_minor": 2
}
