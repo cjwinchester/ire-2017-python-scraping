{
 "cells": [
  {
   "cell_type": "markdown",
   "metadata": {},
   "source": [
    "# More practice exercises\n",
    "\n",
    "- Scrape [this table of U.S. nuclear reactors](nrc.gov/reactors/operating/list-power-reactor-units.html) into a CSV. Bonus: Write a function to extract bits of information from each reactor's detail page and add it to the CSV.\n",
    "\n",
    "- Which reporters have witnessed the most executions in Texas? [Scrape this table](http://www.tdcj.state.tx.us/death_row/dr_media_witness_list.html) to find out (hint: write a function to extract the names and affiliations from the cell in the last column)\n",
    "\n",
    "- Want more? Dan Nguyen has [a list of 101 scraping exercises](https://github.com/stanfordjournalism/search-script-scrape) you could run through."
   ]
  }
 ],
 "metadata": {
  "kernelspec": {
   "display_name": "Python 3",
   "language": "python",
   "name": "python3"
  },
  "language_info": {
   "codemirror_mode": {
    "name": "ipython",
    "version": 3
   },
   "file_extension": ".py",
   "mimetype": "text/x-python",
   "name": "python",
   "nbconvert_exporter": "python",
   "pygments_lexer": "ipython3",
   "version": "3.6.1"
  }
 },
 "nbformat": 4,
 "nbformat_minor": 2
}
