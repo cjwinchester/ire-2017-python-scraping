{
 "cells": [
  {
   "cell_type": "markdown",
   "metadata": {},
   "source": [
    "## Warmup\n",
    "\n",
    "Let's practice on a sample file that lives at `../practice-table.html`. We don't need to use requests because we'll be operating on a local file -- let's pretend we downloaded this and are working on our local copy. (Which, again, is a good idea.)\n",
    "\n",
    "The Mountain Goats [have a new album out last month](https://themountaingoats.bandcamp.com/album/goths) (it is good, you should buy it); the HTML we're going to operate on is just a `<table>` showing the track listing.\n",
    "\n",
    "Let's start by importing the `BeautifulSoup` class from our `bs4` module."
   ]
  },
  {
   "cell_type": "code",
   "execution_count": null,
   "metadata": {
    "collapsed": true
   },
   "outputs": [],
   "source": [
    "from bs4 import BeautifulSoup"
   ]
  },
  {
   "cell_type": "markdown",
   "metadata": {},
   "source": [
    "Next, we're going to open the HTML file with our practice table in it. We're going to use something called a `with` block to open it, and then we'll use the `read()` method to read its contents into memory. Note:\n",
    "\n",
    "- We are opening it in `r` mode, which means \"read\" (as opposed to \"write,\" which we'll do later)\n",
    "- We are defining a variable for the file object using `as`\n",
    "- The lines under the `with` block are indented"
   ]
  },
  {
   "cell_type": "code",
   "execution_count": null,
   "metadata": {},
   "outputs": [],
   "source": [
    "with open('../practice-table.html', 'r') as html_file:\n",
    "    html_code = html_file.read()\n",
    "    print(html_code)"
   ]
  },
  {
   "cell_type": "markdown",
   "metadata": {},
   "source": [
    "Now let's feed the file contents to a BeautifulSoup object and assign the result to the variable `soup`. You might get an error unless you also pass `'html.parser'` as the second argument. Now print `type(soup)`."
   ]
  },
  {
   "cell_type": "code",
   "execution_count": null,
   "metadata": {},
   "outputs": [],
   "source": [
    "with open('../practice-table.html', 'r') as html_file:\n",
    "    html_code = html_file.read()\n",
    "    soup = BeautifulSoup(html_code, 'html.parser')\n",
    "    print(type(soup))"
   ]
  },
  {
   "cell_type": "markdown",
   "metadata": {},
   "source": [
    "Cool. We're locked and loaded. Our string of HTML is now a tree that we can climb through to find the things we want.\n",
    "\n",
    "There are a couple of ways to isolate the table we want using the `find` or `find_all` methods -- by class, by ID, by position on the page, by style. (There are others, remember.) Let's try this:"
   ]
  },
  {
   "cell_type": "code",
   "execution_count": null,
   "metadata": {},
   "outputs": [],
   "source": [
    "with open('../practice-table.html', 'r') as html_file:\n",
    "    html_code = html_file.read()\n",
    "    soup = BeautifulSoup(html_code, 'html.parser')\n",
    "    \n",
    "    # by position on the page\n",
    "    # find_all returns a list of matching elements, and we want the second ([1]) one\n",
    "    # song_table = soup.find_all('table')[1]\n",
    "    \n",
    "    # by class name\n",
    "    # => with `find`, you can pass in a dictionary of element attributes to match on\n",
    "    # song_table = soup.find('table', {'class': 'song-table'})\n",
    "    \n",
    "    # by ID\n",
    "    # song_table = soup.find('table', {'id': 'my-cool-table'})\n",
    "    \n",
    "    # by style\n",
    "    song_table = soup.find('table', {'style': 'width: 95%;'})\n",
    "    \n",
    "    print(song_table)"
   ]
  },
  {
   "cell_type": "markdown",
   "metadata": {},
   "source": [
    "We've targeted the correct table. Now what if we wanted to print a list of track numbers and song titles? Look at the structure of the table -- a `table` has rows represented by the tag `tr`, and within each row there are cells represented by `td`. The `find_all()` method, you'll recall, returns a _list_. And we know how to iterate over lists: with a `for` loop."
   ]
  },
  {
   "cell_type": "code",
   "execution_count": null,
   "metadata": {},
   "outputs": [],
   "source": [
    "with open('../practice-table.html', 'r') as html_file:\n",
    "    html_code = html_file.read()\n",
    "    soup = BeautifulSoup(html_code, 'html.parser')\n",
    "\n",
    "    song_table = soup.find('table', {'class': 'song-table'})\n",
    "    \n",
    "    table_rows = song_table.find_all('tr')\n",
    "    \n",
    "    # let's skip the header row\n",
    "    # more on list slicing: http://pythoncentral.io/how-to-slice-listsarrays-and-tuples-in-python/\n",
    "    for row in table_rows[1:]:\n",
    "        # get a list of cells in the row\n",
    "        cols = row.find_all('td')\n",
    "        \n",
    "        # the track number is is in the first ([0]) \"column\"\n",
    "        # the `.text` attribute gets the contents of a BeautifulSoup Tag object\n",
    "        track_number = cols[0].text\n",
    "        \n",
    "        # the song title is in the second ([1]) \"column\"\n",
    "        song_title = cols[1].text\n",
    "\n",
    "        print(track_number + '.', song_title)\n"
   ]
  }
 ],
 "metadata": {
  "kernelspec": {
   "display_name": "Python 3",
   "language": "python",
   "name": "python3"
  },
  "language_info": {
   "codemirror_mode": {
    "name": "ipython",
    "version": 3
   },
   "file_extension": ".py",
   "mimetype": "text/x-python",
   "name": "python",
   "nbconvert_exporter": "python",
   "pygments_lexer": "ipython3",
   "version": "3.6.1"
  }
 },
 "nbformat": 4,
 "nbformat_minor": 2
}
