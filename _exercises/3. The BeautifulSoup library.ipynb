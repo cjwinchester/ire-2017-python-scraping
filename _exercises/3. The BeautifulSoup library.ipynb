{
 "cells": [
  {
   "cell_type": "markdown",
   "metadata": {
    "collapsed": true
   },
   "source": [
    "# The `BeautifulSoup` library\n",
    "\n",
    "[`BeautifulSoup`](https://www.crummy.com/software/BeautifulSoup/bs4/doc/) is a library you can use to parse a string of HTML markup into data types that Python can work with, allowing you to walk up and down the HTML tag \"tree\" and target specific elements.\n",
    "\n",
    "## Crash course: Basic Python data types\n",
    "\n",
    "You know how in Excel you can format cells as numbers, text, dates, etc.? Same idea in Python, basically.\n",
    "\n",
    "### Strings\n",
    "\n",
    "Anything sandwiched between two quotes -- they can be double or single quotes, doesn't matter as long as they match.\n",
    "\n",
    "### Integers\n",
    "\n",
    "A whole number.\n",
    "\n",
    "### Floats\n",
    "\n",
    "A number with a decimal.\n",
    "\n",
    "### Booleans\n",
    "\n",
    "`True` or `False` -- always capfirst, never wrapped in strings.\n",
    "\n",
    "### Lists\n",
    "\n",
    "A series of elements inside square brackets: `[]`. Today we're going to _iterate_ over some lists using something called a `for` loop.\n",
    "\n",
    "```python\n",
    "my_cool_list = ['a string', 4, 5.6]\n",
    "```\n",
    "\n",
    "### Dictionaries\n",
    "\n",
    "A data structure with keys (typically strings) mapped to values (which can be any data type, even another dictionary, or a variable you've previously defined) inside curly brackets: `{}`.\n",
    "\n",
    "```python\n",
    "my_cool_dict = {'a': 1, 'b': 2, 'c': 3}\n",
    "```\n",
    "\n",
    "## Turning a string of HTML into data\n",
    "\n",
    "With `requests`, remember, we can access the HTML markup behind a page as a big ol' string. BeautifulSoup turns that string into an object that Python can operate on:"
   ]
  },
  {
   "cell_type": "code",
   "execution_count": null,
   "metadata": {
    "collapsed": true
   },
   "outputs": [],
   "source": []
  },
  {
   "cell_type": "markdown",
   "metadata": {},
   "source": [
    "## Targeting elements on the page\n",
    "\n",
    "Let's say we wanted to grab all the headlines on IRE's homepage. Open the page in a new tab and view source. Find the pattern.\n",
    "\n",
    "We're going to use the [`find_all`](https://www.crummy.com/software/BeautifulSoup/bs4/doc/#find-all) method to search the `soup` object; this method will return a _list_ of every element on the page that matches it, and we're going to target the `<article>` elements we're interested in by their CSS class:"
   ]
  },
  {
   "cell_type": "code",
   "execution_count": null,
   "metadata": {
    "collapsed": true
   },
   "outputs": [],
   "source": []
  },
  {
   "cell_type": "markdown",
   "metadata": {},
   "source": [
    "Using a `for` loop, let's print out the `<h1>` headline inside each element. (Protip: Each tag object has a `text` element that will return just the text inside that tag.)"
   ]
  },
  {
   "cell_type": "code",
   "execution_count": null,
   "metadata": {
    "collapsed": true,
    "scrolled": true
   },
   "outputs": [],
   "source": []
  },
  {
   "cell_type": "markdown",
   "metadata": {},
   "source": [
    "There are [many ways](https://www.crummy.com/software/BeautifulSoup/bs4/doc) to target elements on a page using `BeautifulSoup`.\n",
    "\n",
    "Another side note: After the first line of the for loop, the code is indented, you will notice. That's because whitespace matters in Python. It's a whole thing; my advice to start out with is to check out examples and see when things are indented, and when you do need to indent, use four spaces."
   ]
  }
 ],
 "metadata": {
  "kernelspec": {
   "display_name": "Python 3",
   "language": "python",
   "name": "python3"
  },
  "language_info": {
   "codemirror_mode": {
    "name": "ipython",
    "version": 3
   },
   "file_extension": ".py",
   "mimetype": "text/x-python",
   "name": "python",
   "nbconvert_exporter": "python",
   "pygments_lexer": "ipython3",
   "version": "3.6.1"
  }
 },
 "nbformat": 4,
 "nbformat_minor": 2
}
