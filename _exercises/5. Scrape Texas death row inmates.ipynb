{
 "cells": [
  {
   "cell_type": "markdown",
   "metadata": {},
   "source": [
    "# Scrape Texas death row inmates\n",
    "\n",
    "In this exercise, we're going to scrape [a table of Texas death row inmates](http://www.tdcj.state.tx.us/death_row/dr_offenders_on_dr.html) into a csv file.\n",
    "\n",
    "First, import the libraries we'll need:"
   ]
  },
  {
   "cell_type": "code",
   "execution_count": null,
   "metadata": {
    "collapsed": true
   },
   "outputs": [],
   "source": []
  },
  {
   "cell_type": "markdown",
   "metadata": {},
   "source": [
    "Use `requests` to fetch the page and feed its contents to `BeautifulSoup`:"
   ]
  },
  {
   "cell_type": "code",
   "execution_count": null,
   "metadata": {
    "collapsed": true
   },
   "outputs": [],
   "source": []
  },
  {
   "cell_type": "markdown",
   "metadata": {},
   "source": [
    "Now _view source_ on the page and figure out how we're going to isolate that table. There are a couple ways to do this -- I'm going to target its class."
   ]
  },
  {
   "cell_type": "code",
   "execution_count": null,
   "metadata": {
    "collapsed": true
   },
   "outputs": [],
   "source": []
  },
  {
   "cell_type": "markdown",
   "metadata": {},
   "source": [
    "- Find all of the rows in the table.\n",
    "- In a for loop, iterate over the rows (skip the first one) and print each one"
   ]
  },
  {
   "cell_type": "code",
   "execution_count": null,
   "metadata": {
    "collapsed": true
   },
   "outputs": [],
   "source": []
  },
  {
   "cell_type": "markdown",
   "metadata": {},
   "source": [
    "Let's look at each cell in each row. Using `find_all`, get a list of cells in each row and print the list:"
   ]
  },
  {
   "cell_type": "code",
   "execution_count": null,
   "metadata": {
    "collapsed": true
   },
   "outputs": [],
   "source": []
  },
  {
   "cell_type": "markdown",
   "metadata": {},
   "source": [
    "Let's assign descriptive names to each cell based on its position in the list.\n",
    "\n",
    "You will use bracket notation to access items in a list -- keep in mind that counting starts at zero in Python. For instance: `your_list[0]` returns the first item in `your_list`.\n",
    "\n",
    "The first item in our list of cells (`[0]`) is the inmate's ID number. Next is a link to his/her detail page (which we'll extract by accessing the nested a tag's `href` property; we'll also prepend the URL base to make it an absolute link), then his/her last name, etc."
   ]
  },
  {
   "cell_type": "code",
   "execution_count": null,
   "metadata": {
    "collapsed": true
   },
   "outputs": [],
   "source": []
  },
  {
   "cell_type": "markdown",
   "metadata": {},
   "source": [
    "Finally, let's write the data to a local csv file. Same setup as when we opened the practice table, except this time we're going to open a file in `w` mode -- let's call it _tx-death-row.csv_ -- and we're going to use a `csv.writer` object to take lists of values and write them to the file, one row at a time.\n",
    "\n",
    "The loop we just made will go inside the `with` block."
   ]
  },
  {
   "cell_type": "code",
   "execution_count": null,
   "metadata": {
    "collapsed": true
   },
   "outputs": [],
   "source": []
  }
 ],
 "metadata": {
  "kernelspec": {
   "display_name": "Python 3",
   "language": "python",
   "name": "python3"
  },
  "language_info": {
   "codemirror_mode": {
    "name": "ipython",
    "version": 3
   },
   "file_extension": ".py",
   "mimetype": "text/x-python",
   "name": "python",
   "nbconvert_exporter": "python",
   "pygments_lexer": "ipython3",
   "version": "3.6.1"
  }
 },
 "nbformat": 4,
 "nbformat_minor": 2
}
