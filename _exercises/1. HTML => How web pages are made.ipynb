{
 "cells": [
  {
   "cell_type": "markdown",
   "metadata": {},
   "source": [
    "# HTML: How web pages are made\n",
    "\n",
    "To scrape a web page, you need to _sort of_ understand how a web page is built.\n",
    "\n",
    "Web pages are written in HTML (Hypertext Markup Language). HTML elements are represented (usually) by a pair of tags -- an opening tag and a closing tag.\n",
    "\n",
    "A table, for example, starts with `<table>` and ends with `</table>`. The first tag tells the browser: \"Hey! I got a table here! Render it as a table.\" The closing tag (note the forward slash) tells the browser: \"Hey! I'm all done with that table, thanks.\" Inside the table are nested _more_ HTML tags representing rows (`<tr>`) and cells (`<td>`).\n",
    "\n",
    "There's a lot more to it, but that's probably good for now.\n",
    "\n",
    "## Inspect the source!\n",
    "If I'm thinking about scraping a page, the first thing I do is look at the HTML code that underpins the page. You can do this right from your browser -- I like to use Chrome but Firefox has some good developer tools, as well. (Maybe IE does too, who knows lol)\n",
    "\n",
    "To \"view source\" in Chrome, you'd hit Ctrl+U on a PC and Cmd+Opt+U on a Mac. It's also in the menu bar: View -> Developer -> View Page Source.\n",
    "\n",
    "You'll get a page showing you all the HTML code that makes up that page. Locate the element(s) that you want to target and note the structure.\n",
    "\n",
    "You can also inspect specific elements on the page by right clicking and selecting \"Inspect\" or \"Inspect Element\" from the context menu that pops up.\n",
    "\n",
    "Let's inspect the source on the [Texas death row offender page](http://www.tdcj.state.tx.us/death_row/dr_offenders_on_dr.html), which we're going to scrape later.\n",
    "\n",
    "1. View source\n",
    "\n",
    "2. Ctrl+F to search for the table with the information we want.\n",
    "\n",
    "3. Is it the only table on the page?\n",
    "\n",
    "4. Take note of the table's attributes."
   ]
  },
  {
   "cell_type": "markdown",
   "metadata": {},
   "source": [
    "## Exercise on your own\n",
    "\n",
    "Inspect the source of [this page of certified lead burn instructors in Texas](http://texasagriculture.gov/Portals/0/Reports/PIR/certified_lead_burn_instructors.html). Find the table of instructors. Is it the only table on the page? Take note of your target table's attributes."
   ]
  }
 ],
 "metadata": {
  "kernelspec": {
   "display_name": "Python 3",
   "language": "python",
   "name": "python3"
  },
  "language_info": {
   "codemirror_mode": {
    "name": "ipython",
    "version": 3
   },
   "file_extension": ".py",
   "mimetype": "text/x-python",
   "name": "python",
   "nbconvert_exporter": "python",
   "pygments_lexer": "ipython3",
   "version": "3.6.1"
  }
 },
 "nbformat": 4,
 "nbformat_minor": 2
}
