{
 "cells": [
  {
   "cell_type": "markdown",
   "metadata": {},
   "source": [
    "# Functions\n",
    "\n",
    "Functions are bits of reusable code that you can use over and over again. If you find yourself writing the same basic code multiple times in your script, it might be time to abstract it into a function -- this is the DRY principle: **D**on't **R**epeat **Y**ourself.\n",
    "\n",
    "A function typically takes _arguments_ -- variables that represent the things you're passing to the function -- uses or manipulates them in some way, then _returns_ a value to the script.\n",
    "\n",
    "As with other things in Python, there are some syntax rules for writing functions:\n",
    "\n",
    "- It begins with `def nameOfYourFunction()`\n",
    "- Argument variables go inside the parentheses\n",
    "- The first line is terminated by a colon\n",
    "- Subsequent lines are indented\n",
    "\n",
    "Here's a simple function that takes a number, represented by the variable \"num\" (the variable name is arbitrary), adds 10 to it and returns the resulting sum:\n",
    "\n",
    "```python\n",
    "def addTen(num):\n",
    "    return num + 10\n",
    "```\n",
    "\n",
    "Later, you could _call_ the function like this:\n",
    "\n",
    "```python\n",
    "my_age = 31\n",
    "my_age_plus_10 = addTen(my_age)\n",
    "print(my_age_plus_10)\n",
    "# => 41\n",
    "```\n",
    "\n",
    "<a href=\"http://www.tommeagher.com/pythonIRE15/#/\"><img src=\"https://lh3.googleusercontent.com/Tqy7oKnDvdydt1qSEklLK6G1lkUrb0iua7hXy9g7pDdYXXoPCf5nQ6K2-2Gxj_gbSrlMxQhrC_Qtd7fqmjgrXh24VZRL9HoPB8s70TfDFzDIbyUQLcXa9obBVobrPXWnoJTPdZn271OTXAVbk22oszg4p4OHe3Vt-hp2y4o5SDEwo0W4BTZG7n4jq7Htyyu-UB3Z7Lgz0jN3a3GriDcSDRqL45Eaa6nRVQgVSgCJl8JJJu4igbfiWeFOgjYC3TGsbUJnPP7JFo8kVidkxisbWqkzMRB-BF1tPdI3IR7ZlfPdOHOig3nC9IGkXRz89XM1BEdZIIliX6wZnyLkO5Qglxzim9_7u3EiqZ9RFIpqtFjcVtz6BHXs6jaCslsnY5nxJbaH-HPJ92q3rmy8Z-ZPRcwnJJ-vRi3mtyYvsZa4S6-BEAUUznLMnylCAw_lbZZPXmZgSWX_p7RGR059wyQGvL_R34UzIvtMgTBZJ5mfe4Dgf_9eKqwSb1p6whzDGnpzsW0YSp2GNaiYu6lau8qr8_MZVLaM8XetFZY3MAk3q0o1il4K-GCBk6Q1ieEdfk2QY7ej6Vhn=w2880-h1542\" style=\"max-width: 50%;\" /></a>\n",
    "\n",
    "(h/t [Tom Meagher](http://www.tommeagher.com/pythonIRE15/#/))\n",
    "\n",
    "In the next notebook, we're going to use a function to extend our scrape of Texas death row inmate information."
   ]
  }
 ],
 "metadata": {
  "kernelspec": {
   "display_name": "Python 3",
   "language": "python",
   "name": "python3"
  },
  "language_info": {
   "codemirror_mode": {
    "name": "ipython",
    "version": 3
   },
   "file_extension": ".py",
   "mimetype": "text/x-python",
   "name": "python",
   "nbconvert_exporter": "python",
   "pygments_lexer": "ipython3",
   "version": "3.6.1"
  }
 },
 "nbformat": 4,
 "nbformat_minor": 2
}
