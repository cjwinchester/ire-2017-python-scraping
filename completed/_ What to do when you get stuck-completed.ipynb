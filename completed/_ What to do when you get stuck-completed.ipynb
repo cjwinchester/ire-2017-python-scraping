{
 "cells": [
  {
   "cell_type": "markdown",
   "metadata": {
    "collapsed": true
   },
   "source": [
    "# What to do when you get stuck\n",
    "\n",
    "As you learn to code, you will get stuck. Many times. Don't get discouraged! \n",
    "\n",
    "**Learn to love error messages.** They can be scary at first, but error messages will show you what went wrong, on what line, with clues about how to fix it. If you're not sure what an error means, start by Googling it.\n",
    "\n",
    "**Find a newsroom project that Python can help you solve (rather than setting out to \"learn Python\").** Python is just a tool that you can use to achieve some journalistic end. Don't feel like you have to be a master before you can start writing scripts -- find a project and get cracking.\n",
    "\n",
    "**Break the problem into manageable chunks.** Take things one step at a time. Don't think about everything you need to do in order to get an Slack alert whenever a batch of new campaign finance data is posted that includes the governor's family. Think about what you need to do in order to fetch the page. Then think about what you need to do to parse the HTML. Then worry about writing a function to hit Slack. Etc.\n",
    "\n",
    "Sketching out your ideas on paper, in _pseudocode_, can be a good way to break things down. In other words, write out the things you want to accomplish informally, not worrying about syntax -- just get the ideas down on paper. Then come back and translate what you have into working code.\n",
    "\n",
    "**Ask for help.** There are many, many people in the journalism community who want to help you succeed. Here are just a handful of places you can post Python questions and get help from working journalists and developers:\n",
    "\n",
    "- [NICAR-L](https://www.ire.org/resource-center/listservs/subscribe-nicar-l/)\n",
    "- [Newsnerdery Slack](http://newsnerdery.org/) (check the #python channel)\n",
    "- [Lonely Coder's Club Slack](https://lcc-slack.herokuapp.com/)\n",
    "- [CAR Study Hall Slack](https://docs.google.com/forms/d/e/1FAIpQLSeI4othkRdgbCT0V2LRMeJklY1LfmUySkmnd0jNoWBfJswNUw/viewform)\n",
    "- [PythonJournos](https://github.com/PythonJournos/LearningPython/wiki)\n",
    "\n",
    "**... but Google your problem first.** It is _highly unlikely_ that you are the first person in history to encounter your problem. If you have an error message, Google it -- odds are, someone on the Internet has written about it. If you are trying to remember \"how to open a csv file in python,\" Google it. The ProPublica nerds have a [great post](https://www.propublica.org/nerds/item/how-to-ask-programming-questions) on question-asking strategies.\n",
    "\n",
    "**Find a coding buddy or mentor, or both.** It's nice to have somebody who's learning alongside you, and it's _extra_ nice to have a mentor who's willing to help you through the baby steps."
   ]
  }
 ],
 "metadata": {
  "kernelspec": {
   "display_name": "Python 3",
   "language": "python",
   "name": "python3"
  },
  "language_info": {
   "codemirror_mode": {
    "name": "ipython",
    "version": 3
   },
   "file_extension": ".py",
   "mimetype": "text/x-python",
   "name": "python",
   "nbconvert_exporter": "python",
   "pygments_lexer": "ipython3",
   "version": "3.6.1"
  }
 },
 "nbformat": 4,
 "nbformat_minor": 2
}
