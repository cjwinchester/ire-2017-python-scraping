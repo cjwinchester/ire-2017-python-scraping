{
 "cells": [
  {
   "cell_type": "markdown",
   "metadata": {},
   "source": [
    "# Scrape Texas death row inmates\n",
    "\n",
    "In this exercise, we're going to scrape [a table of Texas death row inmates](http://www.tdcj.state.tx.us/death_row/dr_offenders_on_dr.html) into a csv file.\n",
    "\n",
    "First, import the libraries we'll need:"
   ]
  },
  {
   "cell_type": "code",
   "execution_count": null,
   "metadata": {
    "collapsed": true
   },
   "outputs": [],
   "source": [
    "import requests\n",
    "from bs4 import BeautifulSoup\n",
    "import csv"
   ]
  },
  {
   "cell_type": "markdown",
   "metadata": {},
   "source": [
    "Use `requests` to fetch the page and feed its contents to `BeautifulSoup`:"
   ]
  },
  {
   "cell_type": "code",
   "execution_count": null,
   "metadata": {
    "collapsed": true
   },
   "outputs": [],
   "source": [
    "url = 'http://www.tdcj.state.tx.us/death_row/dr_offenders_on_dr.html'\n",
    "\n",
    "r = requests.get(url)\n",
    "\n",
    "soup = BeautifulSoup(r.text, 'html.parser')"
   ]
  },
  {
   "cell_type": "markdown",
   "metadata": {},
   "source": [
    "Now _view source_ on the page and figure out how we're going to isolate that table. There are a couple ways to do this -- I'm going to target its class."
   ]
  },
  {
   "cell_type": "code",
   "execution_count": null,
   "metadata": {
    "collapsed": true
   },
   "outputs": [],
   "source": [
    "dr_table = soup.find('table', {'class': 'os'})"
   ]
  },
  {
   "cell_type": "markdown",
   "metadata": {},
   "source": [
    "- Find all of the rows in the table.\n",
    "- In a for loop, iterate over the rows (skip the first one) and print each one"
   ]
  },
  {
   "cell_type": "code",
   "execution_count": null,
   "metadata": {
    "collapsed": true
   },
   "outputs": [],
   "source": [
    "dr_rows = dr_table.find_all('tr')[1:]\n",
    "\n",
    "for row in dr_rows:\n",
    "    print(row)"
   ]
  },
  {
   "cell_type": "markdown",
   "metadata": {},
   "source": [
    "Let's look at each cell in each row. Using `find_all`, get a list of cells in each row and print the list:"
   ]
  },
  {
   "cell_type": "code",
   "execution_count": null,
   "metadata": {
    "collapsed": true
   },
   "outputs": [],
   "source": [
    "for row in dr_rows:\n",
    "    cols = row.find_all('td')\n",
    "    print(cols)"
   ]
  },
  {
   "cell_type": "markdown",
   "metadata": {},
   "source": [
    "Let's assign descriptive names to each cell based on its position in the list.\n",
    "\n",
    "You will use bracket notation to access items in a list -- keep in mind that counting starts at zero in Python. For instance: `your_list[0]` returns the first item in `your_list`.\n",
    "\n",
    "The first item in our list of cells (`[0]`) is the inmate's ID number. Next is a link to his/her detail page (which we'll extract by accessing the nested a tag's `href` property; we'll also prepend the URL base to make it an absolute link), then his/her last name, etc."
   ]
  },
  {
   "cell_type": "code",
   "execution_count": null,
   "metadata": {
    "collapsed": true
   },
   "outputs": [],
   "source": [
    "for row in dr_rows:\n",
    "    cols = row.find_all('td')\n",
    "\n",
    "    id_number = cols[0].text\n",
    "    detail_link = 'http://www.tdcj.state.tx.us/death_row/' + cols[1].a['href']\n",
    "    last_name = cols[2].text\n",
    "    first_name = cols[3].text\n",
    "    dob = cols[4].text\n",
    "    sex = cols[5].text\n",
    "    race = cols[6].text\n",
    "    date_received = cols[7].text\n",
    "    county = cols[8].text\n",
    "    date_offense = cols[9].text\n",
    "    print(id_number, detail_link, last_name, first_name, dob, sex, race, date_received, county, date_offense)"
   ]
  },
  {
   "cell_type": "markdown",
   "metadata": {},
   "source": [
    "Finally, let's write the data to a local csv file. Same setup as when we opened the practice table, except this time we're going to open a file in `w` mode -- let's call it _tx-death-row.csv_ -- and we're going to use a `csv.writer` object to take lists of values and write them to the file, one row at a time.\n",
    "\n",
    "The loop we just made will go inside the `with` block."
   ]
  },
  {
   "cell_type": "code",
   "execution_count": null,
   "metadata": {
    "collapsed": true
   },
   "outputs": [],
   "source": [
    "with open('tx-death-row.csv', 'w') as outfile:\n",
    "    writer = csv.writer(outfile)\n",
    "    headers = ['id', 'link', 'last', 'first', 'dob', 'sex', 'race',\n",
    "               'admission_date', 'county', 'offense_date']\n",
    "    \n",
    "    writer.writerow(headers)\n",
    "    \n",
    "    for row in dr_rows:\n",
    "        cols = row.find_all('td')\n",
    "\n",
    "        id_number = cols[0].text\n",
    "        detail_link = 'http://www.tdcj.state.tx.us/death_row/' + cols[1].a['href']\n",
    "        last_name = cols[2].text\n",
    "        first_name = cols[3].text\n",
    "        dob = cols[4].text\n",
    "        sex = cols[5].text\n",
    "        race = cols[6].text\n",
    "        date_received = cols[7].text\n",
    "        county = cols[8].text\n",
    "        date_offense = cols[9].text\n",
    "        writer.writerow([id_number, detail_link, last_name, first_name, dob, sex,\n",
    "                         race, date_received, county, date_offense])    "
   ]
  }
 ],
 "metadata": {
  "kernelspec": {
   "display_name": "Python 3",
   "language": "python",
   "name": "python3"
  },
  "language_info": {
   "codemirror_mode": {
    "name": "ipython",
    "version": 3
   },
   "file_extension": ".py",
   "mimetype": "text/x-python",
   "name": "python",
   "nbconvert_exporter": "python",
   "pygments_lexer": "ipython3",
   "version": "3.6.1"
  }
 },
 "nbformat": 4,
 "nbformat_minor": 2
}
