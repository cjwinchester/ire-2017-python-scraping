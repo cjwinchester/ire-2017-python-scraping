{
 "cells": [
  {
   "cell_type": "markdown",
   "metadata": {},
   "source": [
    "# Scraping 101\n",
    "\n",
    "## A few best practices\n",
    "\n",
    "- Scraping can be brittle and error-prone -- should be a last resort\n",
    "- Don't DDOS your target page -- pause between multiple HTTP requests\n",
    "- Work on a cached version of the page while you're writing your script\n",
    "\n",
    "## Modules we'll be using\n",
    "\n",
    "- [`requests`](http://docs.python-requests.org/en/master/) for HTTP requests (fetching a page's contents)\n",
    "- [`BeautifulSoup`](https://www.crummy.com/software/BeautifulSoup/bs4/doc/) for parsing the page's contents into something that Python can work with\n",
    "- [`csv`](https://docs.python.org/3/library/csv.html) for writing the data to a file\n",
    "- [`time`](https://docs.python.org/3/library/time.html) for pausing between requests"
   ]
  }
 ],
 "metadata": {
  "kernelspec": {
   "display_name": "Python 3",
   "language": "python",
   "name": "python3"
  },
  "language_info": {
   "codemirror_mode": {
    "name": "ipython",
    "version": 3
   },
   "file_extension": ".py",
   "mimetype": "text/x-python",
   "name": "python",
   "nbconvert_exporter": "python",
   "pygments_lexer": "ipython3",
   "version": "3.6.1"
  }
 },
 "nbformat": 4,
 "nbformat_minor": 2
}
