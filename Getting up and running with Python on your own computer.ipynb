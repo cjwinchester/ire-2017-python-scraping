{
 "cells": [
  {
   "cell_type": "markdown",
   "metadata": {},
   "source": [
    "# Getting up and running with Python on your own computer\n",
    "\n",
    "## 1. Install a decent text editor\n",
    "\n",
    "Regardless of your OS, you'll want to install a decent text editor. I use [Sublime](https://www.sublimetext.com/); [Atom](https://atom.io/) is good, too. If you're on a Mac, TextWrangler is another option; if you're on a PC, you could check out [Notepad++](https://notepad-plus-plus.org/).\n",
    "\n",
    "\n",
    "## 2. Install Python\n",
    "\n",
    "I recommend installing the latest version of Python 3, not Python 2. If you get stuck, ask for help.\n",
    "\n",
    "### Windows\n",
    "\n",
    "[Follow this tutorial by Anthony DeBarros](http://www.anthonydebarros.com/2015/08/16/setting-up-python-in-windows-10/).\n",
    "\n",
    "### Mac/Linux\n",
    "\n",
    "[Follow this tutorial by Kenneth Reitz](http://docs.python-guide.org/en/latest/starting/install3/osx/)"
   ]
  }
 ],
 "metadata": {
  "kernelspec": {
   "display_name": "Python 3",
   "language": "python",
   "name": "python3"
  },
  "language_info": {
   "codemirror_mode": {
    "name": "ipython",
    "version": 3
   },
   "file_extension": ".py",
   "mimetype": "text/x-python",
   "name": "python",
   "nbconvert_exporter": "python",
   "pygments_lexer": "ipython3",
   "version": "3.6.1"
  }
 },
 "nbformat": 4,
 "nbformat_minor": 2
}
